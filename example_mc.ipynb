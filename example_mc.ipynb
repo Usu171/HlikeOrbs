{
 "cells": [
  {
   "cell_type": "code",
   "execution_count": null,
   "id": "3eb8c94d",
   "metadata": {},
   "outputs": [],
   "source": [
    "import wavefunction as wf\n",
    "import grids as gr\n",
    "import plot\n",
    "import numpy as np\n",
    "import mc"
   ]
  },
  {
   "cell_type": "code",
   "execution_count": null,
   "id": "757278de",
   "metadata": {},
   "outputs": [],
   "source": [
    "Psi_dirac = wf.DiracHydrogen(n=2, k=-2, m=-0.5, Z=1)\n",
    "mc_dirac = mc.MonteCarlo(Psi_dirac, R=20, n_points=100000)\n",
    "\n",
    "point, phase, prob = mc_dirac.sample_points(\n",
    "    num_samples=10000, component='density', method='spherical')\n",
    "config = mc.MCPlotConfig(xyzrange=10)\n",
    "fig = mc.MC_plot(point, config)\n",
    "fig.show()"
   ]
  },
  {
   "cell_type": "code",
   "execution_count": null,
   "id": "b4677fd9",
   "metadata": {},
   "outputs": [],
   "source": [
    "# 使用密度大小着色/调整点大小，添加描边\n",
    "config = mc.MCPlotConfig(\n",
    "    xyzrange=10,\n",
    "    clip=True,\n",
    "    use_prob_color=True,\n",
    "    use_prob_size=True,\n",
    "    line_width=1)\n",
    "fig = mc.MC_plot(point, config, probs=prob)\n",
    "fig.show()"
   ]
  },
  {
   "cell_type": "code",
   "execution_count": null,
   "id": "6eea0e42",
   "metadata": {},
   "outputs": [],
   "source": [
    "# 可视化波函数分量，传入phase以使用相位着色，根据波函数模调整点大小\n",
    "point, phase, prob = mc_dirac.sample_points(\n",
    "    num_samples=10000, component='psi1', method='spherical')\n",
    "config = mc.MCPlotConfig(\n",
    "    xyzrange=20, clip=True, use_prob_size=True, line_width=1)\n",
    "fig = mc.MC_plot(point, config, phase, prob)\n",
    "fig.show()"
   ]
  },
  {
   "cell_type": "code",
   "execution_count": null,
   "id": "9acf77ff",
   "metadata": {},
   "outputs": [],
   "source": [
    "# 使用波函数模平方\n",
    "point, phase, prob = mc_dirac.sample_points(\n",
    "    num_samples=10000, component='psi1', method='spherical', use_squared=True)\n",
    "config = mc.MCPlotConfig(\n",
    "    xyzrange=10, clip=True, use_prob_size=True, line_width=1)\n",
    "fig = mc.MC_plot(point, config, phase, prob)\n",
    "fig.show()"
   ]
  },
  {
   "cell_type": "code",
   "execution_count": null,
   "id": "f12ca259",
   "metadata": {},
   "outputs": [],
   "source": [
    "Psi = wf.SchrodingerHydrogen(4, 3, 2, 1)\n",
    "\n",
    "mc_schrodinger = mc.MonteCarlo(Psi, R=40, n_points=100000)\n",
    "\n",
    "point, phase, prob = mc_schrodinger.sample_points(\n",
    "    num_samples=10000, component='density', method='spherical', is_real=True)\n",
    "config = mc.MCPlotConfig(\n",
    "    xyzrange=20,\n",
    "    clip=True,\n",
    "    use_prob_color=True,\n",
    "    use_prob_size=True,\n",
    "    line_width=1)\n",
    "fig = mc.MC_plot(point, config, probs=prob)\n",
    "fig.show()"
   ]
  },
  {
   "cell_type": "code",
   "execution_count": null,
   "id": "ec5856f1",
   "metadata": {},
   "outputs": [],
   "source": [
    "# 轨道混合示例\n",
    "p2 = wf.SchrodingerHydrogen(2, 1, 1, 1)\n",
    "s2 = wf.SchrodingerHydrogen(2, 0, 0, 1)\n",
    "\n",
    "\n",
    "class HybridHydrogen(wf.SchrodingerHydrogen):\n",
    "\n",
    "    def __init__(self):\n",
    "        pass\n",
    "\n",
    "    def compute_psi_xyz(self, x, y, z, t=0, isreal=False):\n",
    "        psi1 = p2.compute_psi_xyz(x, y, z, t, isreal)\n",
    "        psi2 = s2.compute_psi_xyz(x, y, z, t, isreal)\n",
    "        psi = psi1 + psi2\n",
    "        return psi\n",
    "\n",
    "\n",
    "hybrid_hydrogen = HybridHydrogen()\n",
    "mc_schrodinger = mc.MonteCarlo(hybrid_hydrogen, R=20, n_points=100000)\n",
    "\n",
    "point, phase, prob = mc_schrodinger.sample_points(\n",
    "    num_samples=10000, component='psi', method='spherical', is_real=True)\n",
    "config = mc.MCPlotConfig(\n",
    "    xyzrange=15,\n",
    "    clip=True,\n",
    "    phi_min=270,\n",
    "    use_prob_color=True,\n",
    "    use_prob_size=True,\n",
    "    line_width=1)\n",
    "fig = mc.MC_plot(point, config, probs=prob)\n",
    "fig.show()"
   ]
  },
  {
   "cell_type": "code",
   "execution_count": null,
   "id": "93d725c5",
   "metadata": {},
   "outputs": [],
   "source": [
    "p2 = wf.DiracHydrogen(2, -2, -0.5, 1)\n",
    "s2 = wf.DiracHydrogen(2, -1, -0.5, 1)\n",
    "\n",
    "\n",
    "class HybridHydrogen(wf.DiracHydrogen):\n",
    "\n",
    "    def __init__(self):\n",
    "        pass\n",
    "\n",
    "    def compute_psi_xyz(self, x, y, z, t=0):\n",
    "        psi1 = p2.compute_psi_xyz(x, y, z, t)\n",
    "        psi2 = s2.compute_psi_xyz(x, y, z, t)\n",
    "        psi = psi1.psi + psi2.psi\n",
    "        psi = wf.DiracSpinor(psi)\n",
    "        return psi\n",
    "\n",
    "\n",
    "hybrid_hydrogen = HybridHydrogen()\n",
    "mc_schrodinger = mc.MonteCarlo(hybrid_hydrogen, R=20, n_points=100000)\n",
    "\n",
    "point, phase, prob = mc_schrodinger.sample_points(\n",
    "    num_samples=10000, component='psi3', method='spherical')\n",
    "config = mc.MCPlotConfig(\n",
    "    xyzrange=15, clip=True, use_prob_size=True, line_width=1)\n",
    "fig = mc.MC_plot(point, config, phase, probs=prob)\n",
    "fig.show()"
   ]
  }
 ],
 "metadata": {
  "kernelspec": {
   "display_name": "base",
   "language": "python",
   "name": "python3"
  },
  "language_info": {
   "codemirror_mode": {
    "name": "ipython",
    "version": 3
   },
   "file_extension": ".py",
   "mimetype": "text/x-python",
   "name": "python",
   "nbconvert_exporter": "python",
   "pygments_lexer": "ipython3",
   "version": "3.10.13"
  }
 },
 "nbformat": 4,
 "nbformat_minor": 5
}
