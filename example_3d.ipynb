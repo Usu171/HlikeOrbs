{
 "cells": [
  {
   "cell_type": "code",
   "execution_count": null,
   "id": "26296dd2",
   "metadata": {},
   "outputs": [],
   "source": [
    "import wavefunction as wf\n",
    "import grids as gr\n",
    "import plot\n",
    "import numpy as np"
   ]
  },
  {
   "cell_type": "markdown",
   "id": "7674f8b3",
   "metadata": {},
   "source": [
    "# Dirac 波函数"
   ]
  },
  {
   "cell_type": "code",
   "execution_count": null,
   "id": "071a2878",
   "metadata": {},
   "outputs": [],
   "source": [
    "# Dirac 波函数\n",
    "# 1.构造DiracHydrogen实例\n",
    "n, k, m, Z = 2, -2, -0.5, 1\n",
    "Psi_dirac = wf.DiracHydrogen(n, k, m, Z)"
   ]
  },
  {
   "cell_type": "code",
   "execution_count": null,
   "id": "138191d3",
   "metadata": {},
   "outputs": [],
   "source": [
    "# 2.生成网格\n",
    "grid = gr.GridGenerator(10, 50)\n",
    "X, Y, Z = grid.generate_grid()\n",
    "\n",
    "# 3.计算波函数\n",
    "spinor = Psi_dirac.compute_psi_xyz(X, Y, Z, t=0)\n",
    "_ = spinor.component_fractions()"
   ]
  },
  {
   "cell_type": "code",
   "execution_count": null,
   "id": "a49ccaea",
   "metadata": {},
   "outputs": [],
   "source": [
    "# 4.可视化波函数\n",
    "plt_config = plot.DiracPlotConfig()\n",
    "\n",
    "fig = plot.Dirac_plot_all(spinor, grid, plt_config)\n",
    "fig.show()"
   ]
  },
  {
   "cell_type": "markdown",
   "id": "7b321bb7",
   "metadata": {},
   "source": [
    "# Schrodinger 波函数"
   ]
  },
  {
   "cell_type": "code",
   "execution_count": null,
   "id": "285648a2",
   "metadata": {},
   "outputs": [],
   "source": [
    "# Schrodinger 波函数\n",
    "# 1.构造Hydrogen实例\n",
    "n, l, m, Z = 2, 1, 1, 1\n",
    "Psi = wf.SchrodingerHydrogen(n, l, m, Z)"
   ]
  },
  {
   "cell_type": "code",
   "execution_count": null,
   "id": "e2f13332",
   "metadata": {},
   "outputs": [],
   "source": [
    "# 2.生成网格（可以用上面已有的）\n",
    "grid = gr.GridGenerator(10, 50)\n",
    "X, Y, Z = grid.generate_grid()\n",
    "\n",
    "# 3.计算波函数\n",
    "psi = Psi.compute_psi_xyz(X, Y, Z, t=0)"
   ]
  },
  {
   "cell_type": "code",
   "execution_count": null,
   "id": "e903a33e",
   "metadata": {},
   "outputs": [],
   "source": [
    "# 4.可视化波函数\n",
    "plt_config = plot.SchrodingerPlotConfig(xyzrange=10, color=('#66ccff', 'hsv'))\n",
    "\n",
    "fig = plot.Schrodinger_plot(psi, grid, plt_config)\n",
    "fig.show()"
   ]
  },
  {
   "cell_type": "code",
   "execution_count": null,
   "id": "7b7504d1",
   "metadata": {},
   "outputs": [],
   "source": [
    "# 实轨道\n",
    "psi = Psi.compute_psi_xyz(X, Y, Z, t=0, isreal=True)\n",
    "fig = plot.Schrodinger_plot(psi, grid, plt_config)\n",
    "fig.show()"
   ]
  },
  {
   "cell_type": "markdown",
   "id": "86ca9a2c",
   "metadata": {},
   "source": [
    "# 轨道混合"
   ]
  },
  {
   "cell_type": "code",
   "execution_count": null,
   "id": "952e51ef",
   "metadata": {},
   "outputs": [],
   "source": [
    "# 轨道混合\n",
    "# 生成网格\n",
    "grid = gr.GridGenerator(10, 50)\n",
    "X, Y, Z = grid.generate_grid()\n",
    "\n",
    "p2 = wf.SchrodingerHydrogen(2, 1, 1, 1)\n",
    "s2 = wf.SchrodingerHydrogen(2, 0, 0, 1)\n",
    "\n",
    "# 3.计算波函数\n",
    "psi_p2 = p2.compute_psi_xyz(X, Y, Z, t=0, isreal=True)\n",
    "psi_s2 = s2.compute_psi_xyz(X, Y, Z, t=0)\n",
    "\n",
    "# normalize设为True，将波函数归一化\n",
    "# 将n个波函数按照第二个参数的比例混合\n",
    "psi = wf.generate_hybrid_orbital([psi_p2, psi_s2], [1, 1], normalize=True)\n",
    "\n",
    "# 4.可视化波函数\n",
    "plt_config = plot.SchrodingerPlotConfig()\n",
    "\n",
    "fig = plot.Schrodinger_plot(psi, grid, plt_config)\n",
    "fig.show()"
   ]
  },
  {
   "cell_type": "code",
   "execution_count": null,
   "id": "db683872",
   "metadata": {},
   "outputs": [],
   "source": [
    "# 复系数\n",
    "psi = wf.generate_hybrid_orbital([psi_p2, psi_s2], [1, 1j], normalize=True)\n",
    "\n",
    "# 4.可视化波函数\n",
    "plt_config = plot.SchrodingerPlotConfig()\n",
    "\n",
    "fig = plot.Schrodinger_plot(psi, grid, plt_config)\n",
    "fig.show()"
   ]
  },
  {
   "cell_type": "code",
   "execution_count": null,
   "id": "d3082f7f",
   "metadata": {},
   "outputs": [],
   "source": [
    "# Dirac波函数\n",
    "p2 = wf.DiracHydrogen(2, -2, -0.5, 1)\n",
    "s2 = wf.DiracHydrogen(2, -1, -0.5, 1)\n",
    "\n",
    "psi_p2 = p2.compute_psi_xyz(X, Y, Z, t=0)\n",
    "psi_s2 = s2.compute_psi_xyz(X, Y, Z, t=0)\n",
    "\n",
    "psi = wf.generate_hybrid_orbital([psi_p2, psi_s2], [1, 1])\n",
    "# 返回BaseSpinor，需要转换为DiracSpinor\n",
    "psi = wf.DiracSpinor(psi.psi)\n",
    "\n",
    "plt_config = plot.DiracPlotConfig()\n",
    "\n",
    "fig = plot.Dirac_plot_all(psi, grid, plt_config)\n",
    "fig.show()"
   ]
  }
 ],
 "metadata": {
  "kernelspec": {
   "display_name": "base",
   "language": "python",
   "name": "python3"
  },
  "language_info": {
   "codemirror_mode": {
    "name": "ipython",
    "version": 3
   },
   "file_extension": ".py",
   "mimetype": "text/x-python",
   "name": "python",
   "nbconvert_exporter": "python",
   "pygments_lexer": "ipython3",
   "version": "3.10.13"
  }
 },
 "nbformat": 4,
 "nbformat_minor": 5
}
