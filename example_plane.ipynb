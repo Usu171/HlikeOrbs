{
 "cells": [
  {
   "cell_type": "code",
   "execution_count": null,
   "id": "96e6afb3",
   "metadata": {},
   "outputs": [],
   "source": [
    "import wavefunction as wf\n",
    "import grids as gr\n",
    "import plot\n",
    "import numpy as np"
   ]
  },
  {
   "cell_type": "code",
   "execution_count": null,
   "id": "0a26950a",
   "metadata": {},
   "outputs": [],
   "source": [
    "# 平面\n",
    "# 1.构造DiracHydrogen实例\n",
    "n, k, m, Z = 2, -2, -0.5, 1\n",
    "Psi_dirac = wf.DiracHydrogen(n, k, m, Z)\n",
    "\n",
    "# 2.生成平面网格\n",
    "# 定义平面网格参数\n",
    "center = (0, 0, 0)  # 平面中心\n",
    "normal = (0, 1, 1)  # 法向量（z轴）\n",
    "size = 10.0  # 平面大小\n",
    "points_per_dim = 170  # 每维度点数\n",
    "rotation_angle = 30  # 绕法向量旋转\n",
    "plane_grid = gr.PlaneGridGenerator(center, normal, size, points_per_dim,\n",
    "                                   rotation_angle)\n",
    "X, Y, Z = plane_grid.generate_grid()\n",
    "\n",
    "# 3.计算波函数\n",
    "spinor = Psi_dirac.compute_psi_xyz(X, Y, Z)\n",
    "\n",
    "# 4.可视化密度 （3D）\n",
    "config = plot.PlanePlotConfig(component='density', plot_type='magnitude')\n",
    "fig = plot.plot_plane_wavefunction(spinor, plane_grid, config)\n",
    "fig.show()"
   ]
  },
  {
   "cell_type": "code",
   "execution_count": null,
   "id": "d6bd3c38",
   "metadata": {},
   "outputs": [],
   "source": [
    "# 可视化波函数第一个分量 使用相位着色 （3D）\n",
    "config = plot.PlanePlotConfig(component='psi1', plot_type='phase')\n",
    "fig = plot.plot_plane_wavefunction(spinor, plane_grid, config)\n",
    "fig.show()"
   ]
  },
  {
   "cell_type": "code",
   "execution_count": null,
   "id": "5e4db824",
   "metadata": {},
   "outputs": [],
   "source": [
    "# 可视化密度 （2D）\n",
    "config = plot.PlanePlotConfig(\n",
    "    component='density', plot_type='magnitude', is_3d=False, contour_levels=10)\n",
    "fig = plot.plot_plane_wavefunction(spinor, plane_grid, config)\n",
    "fig.show()"
   ]
  },
  {
   "cell_type": "code",
   "execution_count": null,
   "id": "5e14448b",
   "metadata": {},
   "outputs": [],
   "source": [
    "# 可视化密度（高度由密度确定，颜色为Blues）\n",
    "config = plot.PlanePlotConfig3D(\n",
    "    component='density',\n",
    "    plot_type='magnitude',\n",
    ")\n",
    "fig = plot.plot_plane_wavefunction_3D(\n",
    "    wavefunction=spinor, grid=plane_grid, config=config)\n",
    "fig.show()"
   ]
  },
  {
   "cell_type": "code",
   "execution_count": null,
   "id": "f358b0cd",
   "metadata": {},
   "outputs": [],
   "source": [
    "# 可视化波函数（高度由模确定，颜色为相位 hsv）\n",
    "config_phase = plot.PlanePlotConfig3D(\n",
    "    component='psi1',\n",
    "    plot_type='phase',\n",
    ")\n",
    "fig = plot.plot_plane_wavefunction_3D(\n",
    "    wavefunction=spinor, grid=plane_grid, config=config_phase)\n",
    "fig.show()"
   ]
  }
 ],
 "metadata": {
  "kernelspec": {
   "display_name": "base",
   "language": "python",
   "name": "python3"
  },
  "language_info": {
   "codemirror_mode": {
    "name": "ipython",
    "version": 3
   },
   "file_extension": ".py",
   "mimetype": "text/x-python",
   "name": "python",
   "nbconvert_exporter": "python",
   "pygments_lexer": "ipython3",
   "version": "3.10.13"
  }
 },
 "nbformat": 4,
 "nbformat_minor": 5
}
