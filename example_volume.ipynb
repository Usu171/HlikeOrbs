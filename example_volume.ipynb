{
 "cells": [
  {
   "cell_type": "code",
   "execution_count": null,
   "id": "583e1561",
   "metadata": {},
   "outputs": [],
   "source": [
    "import wavefunction as wf\n",
    "import grids as gr\n",
    "from plot import plot_volume_wavefunction, VolumePlotConfig"
   ]
  },
  {
   "cell_type": "code",
   "execution_count": null,
   "id": "66b73732",
   "metadata": {},
   "outputs": [],
   "source": [
    "n, k, m, Z = 2, -2, -0.5, 1\n",
    "Psi_dirac = wf.DiracHydrogen(n, k, m, Z)\n",
    "grid = gr.GridGenerator(10, 50)\n",
    "X, Y, Z = grid.generate_grid()\n",
    "psi = Psi_dirac.compute_psi_xyz(X, Y, Z)"
   ]
  },
  {
   "cell_type": "code",
   "execution_count": null,
   "id": "aaf67d6e",
   "metadata": {},
   "outputs": [],
   "source": [
    "config = VolumePlotConfig(\n",
    "    component='density', clip=True, isovalue=0.05, xyzrange=10.0)\n",
    "\n",
    "fig = plot_volume_wavefunction(psi, grid, config)\n",
    "fig.show()"
   ]
  },
  {
   "cell_type": "code",
   "execution_count": null,
   "id": "b726900a",
   "metadata": {},
   "outputs": [],
   "source": [
    "config = VolumePlotConfig(\n",
    "    component='psi1', clip=True, isovalue=0.1, xyzrange=10.0)\n",
    "\n",
    "fig = plot_volume_wavefunction(psi, grid, config)\n",
    "fig.show()"
   ]
  },
  {
   "cell_type": "code",
   "execution_count": null,
   "id": "9cded230",
   "metadata": {},
   "outputs": [],
   "source": [
    "config = VolumePlotConfig(\n",
    "    component='psi1', use_squared=True, clip=True, isovalue=0.1, xyzrange=10.0)\n",
    "\n",
    "fig = plot_volume_wavefunction(psi, grid, config)\n",
    "fig.show()"
   ]
  }
 ],
 "metadata": {
  "kernelspec": {
   "display_name": "base",
   "language": "python",
   "name": "python3"
  },
  "language_info": {
   "codemirror_mode": {
    "name": "ipython",
    "version": 3
   },
   "file_extension": ".py",
   "mimetype": "text/x-python",
   "name": "python",
   "nbconvert_exporter": "python",
   "pygments_lexer": "ipython3",
   "version": "3.10.13"
  }
 },
 "nbformat": 4,
 "nbformat_minor": 5
}
